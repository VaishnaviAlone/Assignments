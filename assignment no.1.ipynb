{
 "cells": [
  {
   "cell_type": "code",
   "execution_count": 1,
   "id": "a03ee799",
   "metadata": {},
   "outputs": [
    {
     "name": "stdout",
     "output_type": "stream",
     "text": [
      "{}\n"
     ]
    }
   ],
   "source": [
    "# what does an empty dictionary looks like?\n",
    "my_dict = { }\n",
    "print(my_dict)"
   ]
  },
  {
   "cell_type": "code",
   "execution_count": 2,
   "id": "0fa3242d",
   "metadata": {},
   "outputs": [
    {
     "name": "stdout",
     "output_type": "stream",
     "text": [
      "dict_values([42])\n"
     ]
    }
   ],
   "source": [
    "# what is the value of a dictionary value with the key 'foo' and the value is 42?\n",
    "my_dict = {\"foo\":42}\n",
    "print(my_dict.values())"
   ]
  },
  {
   "cell_type": "code",
   "execution_count": 3,
   "id": "d765f949",
   "metadata": {},
   "outputs": [
    {
     "name": "stdout",
     "output_type": "stream",
     "text": [
      "(1, 2, 3, 4, 5) {1: 'aniket', 2: 'prathmesh', 3: 'vaishnavi'}\n"
     ]
    }
   ],
   "source": [
    "# what is the most significant distinction between a dictionary and list?\n",
    "list = (1,2,3,4,5)#individual values\n",
    "dict = {1:\"aniket\", 2:\"prathmesh\", 3:\"vaishnavi\"}#key value pair\n",
    "print(list, dict)"
   ]
  },
  {
   "cell_type": "code",
   "execution_count": 4,
   "id": "eeebf0d4",
   "metadata": {},
   "outputs": [
    {
     "name": "stdout",
     "output_type": "stream",
     "text": [
      "100\n"
     ]
    }
   ],
   "source": [
    "# what happens if you try to access spam['foo'] if spam is ('bar':100)?\n",
    "\n",
    "spam={\"bar\":100}\n",
    "print(spam[\"bar\"])"
   ]
  },
  {
   "cell_type": "code",
   "execution_count": 5,
   "id": "3c02a243",
   "metadata": {},
   "outputs": [
    {
     "data": {
      "text/plain": [
       "'black'"
      ]
     },
     "execution_count": 5,
     "metadata": {},
     "output_type": "execute_result"
    }
   ],
   "source": [
    "# what is shortcut for following code? if color is not in spam\n",
    "#spam['color']='black'\n",
    "\n",
    "spam.setdefault('color','black')\n"
   ]
  },
  {
   "cell_type": "code",
   "execution_count": 6,
   "id": "26da043c",
   "metadata": {},
   "outputs": [
    {
     "name": "stdout",
     "output_type": "stream",
     "text": [
      "{'city': 'karanja', 'name': 'Vaishnavi'}\n"
     ]
    }
   ],
   "source": [
    "# how do you \"pretty print\" dictionary values using which module and function?\n",
    "\n",
    "import pprint\n",
    "\n",
    "my_dict = {'name':'Vaishnavi', 'city':'karanja'}\n",
    "pprint.pprint(my_dict)"
   ]
  },
  {
   "cell_type": "code",
   "execution_count": 11,
   "id": "fafa4508",
   "metadata": {},
   "outputs": [
    {
     "data": {
      "text/plain": [
       "dict_keys(['name', 'age', 'cat'])"
      ]
     },
     "execution_count": 11,
     "metadata": {},
     "output_type": "execute_result"
    }
   ],
   "source": [
    "# if a dictionary is stored in spam, what is the difference between the expressios 'cat'\n",
    "\n",
    "spam={\"name\":\"rohit\", \"age\":23, \"cat\":\"animal\"}\n",
    "spam.keys()"
   ]
  },
  {
   "cell_type": "code",
   "execution_count": 12,
   "id": "4ab4acd4",
   "metadata": {},
   "outputs": [
    {
     "data": {
      "text/plain": [
       "dict_values(['rohit', 23, 'animal'])"
      ]
     },
     "execution_count": 12,
     "metadata": {},
     "output_type": "execute_result"
    }
   ],
   "source": [
    "spam.values()"
   ]
  },
  {
   "cell_type": "code",
   "execution_count": null,
   "id": "bee541f1",
   "metadata": {},
   "outputs": [],
   "source": []
  }
 ],
 "metadata": {
  "kernelspec": {
   "display_name": "Python 3 (ipykernel)",
   "language": "python",
   "name": "python3"
  },
  "language_info": {
   "codemirror_mode": {
    "name": "ipython",
    "version": 3
   },
   "file_extension": ".py",
   "mimetype": "text/x-python",
   "name": "python",
   "nbconvert_exporter": "python",
   "pygments_lexer": "ipython3",
   "version": "3.11.0"
  }
 },
 "nbformat": 4,
 "nbformat_minor": 5
}
